{
 "cells": [
  {
   "cell_type": "markdown",
   "metadata": {},
   "source": [
    "# COMP90051 Project 2"
   ]
  },
  {
   "cell_type": "code",
   "execution_count": 1,
   "metadata": {},
   "outputs": [],
   "source": [
    "# Do not edit. These are the only imports permitted.\n",
    "%matplotlib inline\n",
    "import numpy as np\n",
    "from numpy.linalg import inv\n",
    "import matplotlib.pyplot as plt\n",
    "        \n",
    "from abc import ABC, abstractmethod\n"
   ]
  },
  {
   "cell_type": "markdown",
   "metadata": {},
   "source": [
    "## 1. Implementing ε-Greedy and UCB"
   ]
  },
  {
   "cell_type": "code",
   "execution_count": 2,
   "metadata": {},
   "outputs": [],
   "source": [
    "class MAB(ABC):\n",
    "    \"\"\"\n",
    "    Abstract class that represents a multi-armed bandit (MAB)\n",
    "    \"\"\"\n",
    "    \n",
    "    @abstractmethod\n",
    "    def play(self, tround, context):\n",
    "        \"\"\"\n",
    "        Play a round\n",
    "        \n",
    "        Arguments\n",
    "        =========\n",
    "        tround : int\n",
    "            positive integer identifying the round\n",
    "        \n",
    "        context : 1D float array, shape (self.ndims * self.narms), optional\n",
    "            context given to the arms\n",
    "        \n",
    "        Returns\n",
    "        =======\n",
    "        arm : int\n",
    "            the positive integer arm id for this round\n",
    "        \"\"\"\n",
    "        pass\n",
    "    @abstractmethod\n",
    "    def update(self, arm, reward, context):\n",
    "        \"\"\"\n",
    "        Updates the internal state of the MAB after a play\n",
    "        \n",
    "        Arguments\n",
    "        =========\n",
    "        arm : int\n",
    "            a positive integer arm id in {1, ..., self.narms}\n",
    "        \n",
    "        reward : float\n",
    "            reward received from arm\n",
    "        \n",
    "        context : 1D float array, shape (self.ndims * self.narms), optional\n",
    "            context given to arms\n",
    "        \"\"\"\n",
    "        pass"
   ]
  },
  {
   "cell_type": "code",
   "execution_count": 3,
   "metadata": {},
   "outputs": [],
   "source": [
    "class EpsGreedy(MAB):\n",
    "    \"\"\"\n",
    "    Epsilon-Greedy multi-armed bandit\n",
    "\n",
    "    Arguments\n",
    "    =========\n",
    "    narms : int\n",
    "        number of arms\n",
    "\n",
    "    epsilon : float\n",
    "        explore probability\n",
    "\n",
    "    Q0 : float, optional\n",
    "        initial value for the arms\n",
    "    \"\"\"\n",
    "    \n",
    "    def __init__(self, narms, epsilon, Q0=np.inf):\n",
    "        assert isinstance(narms,int),\"'narms' should be an integer.\"\n",
    "        assert narms > 0, \"'narms' should be a positive integer.\"\n",
    "        assert isinstance(epsilon, float),\"'epsilon should be a float.'\"\n",
    "        assert epsilon >= 0 and epsilon <=1,\"the value of 'epsilon' should between 0 and 1. \"\n",
    "        assert isinstance(Q0,float),\"'Q0' should be a real-value\"\n",
    "        \n",
    "        self.narms = narms\n",
    "        self.epsilon = epsilon\n",
    "        self.Q0 = Q0\n",
    "        # state to store average rewards for each arm \n",
    "        self.avg_rewards = np.zeros(narms,dtype=float)\n",
    "        # state to store total rewards observed for each arm\n",
    "        self.total_rewards = np.zeros(narms,dtype=float)\n",
    "        # state to store total counts for which each arm has been played       \n",
    "        self.counts = np.zeros(narms,dtype=int)\n",
    "        \n",
    "    def play(self, tround, context=None):\n",
    "        # Binamial random number generator with probabilty of success defined\n",
    "        # by epsilon\n",
    "        if np.random.binomial(n=1, p=self.epsilon) == 0:\n",
    "            # Exploit by playing the arm which has the highest average rewards  \n",
    "            # so far with random tie-breaking \n",
    "            max_value = max(self.avg_rewards)\n",
    "            candidate_arm = []\n",
    "            for i in range(len(self.avg_rewards)):\n",
    "                if self.avg_rewards[i] == max_value:\n",
    "                    candidate_arm.append(i)\n",
    "                   \n",
    "            candidate = np.random.choice(candidate_arm)\n",
    "        else:\n",
    "        # Explore by randomly picking up an arm with equal probability                                                          \n",
    "            candidate = np.random.randint(low=0, high=self.narms) \n",
    "        \n",
    "        return(candidate+1)\n",
    "    \n",
    "    def update(self, arm, reward, context=None):\n",
    "        assert arm <= self.narms,\"the value of 'arm' should no larger than 'narms' \"\n",
    "        self.counts[arm]+=1\n",
    "        self.total_rewards[arm]+=1\n",
    "        self.avg_rewards[arm]=self.total_rewards[arm]/self.counts[arm]\n",
    "    "
   ]
  },
  {
   "cell_type": "code",
   "execution_count": 4,
   "metadata": {},
   "outputs": [],
   "source": [
    "class UCB(MAB):\n",
    "    \"\"\"\n",
    "    Upper Confidence Bound (UCB) multi-armed bandit\n",
    "\n",
    "    Arguments\n",
    "    =========\n",
    "    narms : int\n",
    "        number of arms\n",
    "\n",
    "    rho : float\n",
    "        positive real explore-exploit parameter\n",
    "\n",
    "    Q0 : float, optional\n",
    "        initial value for the arms\n",
    "    \"\"\"\n",
    "    \n",
    "    def __init__(self, narms, rho, Q0=np.inf):\n",
    "        assert isinstance(narms,int),\"'narms' should be an integer.\"\n",
    "        assert narms > 0, \"'narms' should be a positive integer.\"\n",
    "        assert isinstance(rho, float),\"'epsilon should be a float.'\"\n",
    "        assert rho > 0,\"'rho' should be a positive real-value. \"\n",
    "        assert isinstance(Q0,float),\"'Q0' should be a real-value.\"\n",
    "    \n",
    "        self.narms = narms\n",
    "        self.rho = rho\n",
    "        self.Q0 = Q0\n",
    "         # state to store average rewards for each arm \n",
    "        self.avg_rewards = np.zeros(narms,dtype=float)\n",
    "        # state to store total rewards observed for each arm\n",
    "        self.total_rewards = np.zeros(narms,dtype=float)\n",
    "        # state to store total counts for which each arm has been played       \n",
    "        self.counts = np.zeros(narms,dtype=int)\n",
    "    \n",
    "    def play(self, tround, context=None):\n",
    "        # Store UCB values for each arm\n",
    "        upper_bound_probs = np.full(self.narms, self.Q0)\n",
    "        # Update UCB values for each arm\n",
    "        for i in range(len(upper_bound_probs)):\n",
    "        # Only update the initialized UCB values for arms those has been played at least once \n",
    "            if self.counts[i]>0:\n",
    "                upper_bound_probs[i]=(self.avg_rewards[i]+np.sqrt((self.rho*np.log(tround))/self.counts[i]))\n",
    "        # Select arm which has the highest UCB values so far with random tie-breaking                  \n",
    "        max_value = max(upper_bound_probs)    \n",
    "        candidate_arm=[]\n",
    "        for i in range (self.narms):\n",
    "            if upper_bound_probs[i] == max_value:\n",
    "                candidate_arm.append(i)\n",
    "        candidate = np.random.choice(candidate_arm)\n",
    "        return(candidate+1)\n",
    "        \n",
    "    def update(self, arm, reward, context=None):\n",
    "        assert arm <= self.narms,\"the value of 'arm' should no larger than 'narms' \"\n",
    "        self.counts[arm]+=1\n",
    "        self.total_rewards[arm]+= reward\n",
    "        self.avg_rewards[arm]=self.total_rewards[arm]/self.counts[arm]\n",
    "    "
   ]
  },
  {
   "cell_type": "markdown",
   "metadata": {},
   "source": [
    "## 2. The Basic Thompson Bandit"
   ]
  },
  {
   "cell_type": "code",
   "execution_count": 5,
   "metadata": {},
   "outputs": [],
   "source": [
    "class BetaThompson(MAB):\n",
    "    \"\"\"\n",
    "    Beta-Bernoulli Thompson sampling multi-armed bandit\n",
    "\n",
    "    Arguments\n",
    "    =========\n",
    "    narms : int\n",
    "        number of arms\n",
    "\n",
    "    alpha0 : float, optional\n",
    "        positive real prior hyperparameter\n",
    "\n",
    "    beta0 : float, optional\n",
    "        positive real prior hyperparameter\n",
    "    \"\"\"\n",
    "    \n",
    "    def __init__(self, narms, alpha0=1.0, beta0=1.0):\n",
    "        assert isinstance(narms,int),\"'narms' should be an integer.\"\n",
    "        assert narms > 0, \"'narms' should be a positive integer.\"\n",
    "        assert isinstance(alpha0, float),\"'epsilon should be a real-value.'\"\n",
    "        assert alpha0 > 0,\"'alpha0' should be a positive real-value. \"\n",
    "        assert isinstance(beta0, float),\"'epsilon should be a real-value.'\"\n",
    "        assert beta0 > 0,\"'beta0' should be a positive real-value. \"\n",
    "    \n",
    "        self.narms = narms\n",
    "        self.alpha0 = alpha0\n",
    "        self.beta0 = beta0\n",
    "        # state to store total rewards(numbers of wins) observed for each arm\n",
    "        self.total_rewards = np.zeros(narms,dtype=float)\n",
    "        # state to store total counts for which each arm has been played       \n",
    "        self.counts = np.zeros(narms,dtype=int) \n",
    "    \n",
    "    def play(self, tround, context=None):\n",
    "         # Store basic Thompson values for each arm\n",
    "        Thompson_sample_value = np.zeros(self.narms)\n",
    "        # Update Thompson sample values (beta distribution) for each arm\n",
    "        for i in range(len(Thompson_sample_value)): \n",
    "            Thompson_sample_value[i] = np.random.beta(self.total_rewards[i]+self.alpha0,self.counts[i]-self.total_rewards[i]+self.beta0)\n",
    "            \n",
    "        # Select arm which has the highest Thompson values so far with random tie-breaking         \n",
    "        max_value = max(Thompson_sample_value)    \n",
    "        candidate_arm=[]\n",
    "        for i in range (self.narms):\n",
    "            if Thompson_sample_value[i] == max_value:\n",
    "                candidate_arm.append(i)\n",
    "        candidate = np.random.choice(candidate_arm)\n",
    "        \n",
    "        return(candidate+1)\n",
    "        \n",
    "    def update(self, arm, reward, context=None):\n",
    "        assert arm <= self.narms,\"the value of 'arm' should no larger than 'narms' \"\n",
    "        self.counts[arm]+=1\n",
    "        self.total_rewards[arm]+= reward"
   ]
  },
  {
   "cell_type": "markdown",
   "metadata": {},
   "source": [
    "## 3. Off-Policy Evaluation"
   ]
  },
  {
   "cell_type": "code",
   "execution_count": 6,
   "metadata": {},
   "outputs": [],
   "source": [
    "#Read data, ensure the dataset.txt is located in the same directory as this notebook\n",
    "dataset = np.loadtxt('dataset.txt')\n",
    "arms = dataset[:,0].astype(int)\n",
    "rewards = dataset[:,1]\n",
    "contexts = dataset[:,2:102]"
   ]
  },
  {
   "cell_type": "code",
   "execution_count": 7,
   "metadata": {},
   "outputs": [
    {
     "name": "stdout",
     "output_type": "stream",
     "text": [
      "[2 8 5 ... 9 4 4]\n",
      "[0. 0. 0. ... 1. 0. 0.]\n",
      "[[ 5.  0.  0. ... 30.  4.  0.]\n",
      " [ 1.  3. 36. ...  0.  0. 10.]\n",
      " [ 3.  0.  0. ...  3.  0.  0.]\n",
      " ...\n",
      " [79.  0.  0. ...  0.  0.  0.]\n",
      " [29.  0.  2. ... 17.  0.  0.]\n",
      " [ 0.  2. 35. ...  0.  0. 12.]]\n"
     ]
    }
   ],
   "source": [
    "print(arms)\n",
    "print(rewards)\n",
    "print(contexts)"
   ]
  },
  {
   "cell_type": "code",
   "execution_count": 25,
   "metadata": {},
   "outputs": [],
   "source": [
    "def offlineEvaluate(mab, arms, rewards, contexts, nrounds=None):\n",
    "    \"\"\"\n",
    "    Offline evaluation of a multi-armed bandit\n",
    "    \n",
    "    Arguments\n",
    "    =========\n",
    "    mab : instance of MAB\n",
    "    \n",
    "    arms : 1D int array, shape (nevents,) \n",
    "        integer arm id for each event\n",
    "    \n",
    "    rewards : 1D float array, shape (nevents,)\n",
    "        reward received for each event\n",
    "    \n",
    "    contexts : 2D float array, shape (nevents, mab.narms*nfeatures)\n",
    "        contexts presented to the arms (stacked horizontally) \n",
    "        for each event.\n",
    "        \n",
    "    nrounds : int, optional\n",
    "        number of matching events to evaluate `mab` on.\n",
    "    \n",
    "    Returns\n",
    "    =======\n",
    "    out : 1D float array\n",
    "        rewards for the matching events\n",
    "    \"\"\"\n",
    "    tround = 1\n",
    "    arm_selected = []\n",
    "    per_round_rewards = []\n",
    "    # If nrounds is None, play until stream_iterator is done\n",
    "    if nrounds == None:\n",
    "        nrounds = len(arms)\n",
    "    \n",
    "    for i in range(len(arms)):\n",
    "        played_arm = mab.play(tround,contexts[i])\n",
    "        if played_arm == arms[i]:\n",
    "            reward = rewards[i]\n",
    "            mab.update(played_arm-1,reward,contexts[i])\n",
    "            arm_selected.append([played_arm,reward])\n",
    "            per_round_rewards.append(reward)\n",
    "            if tround == nrounds:\n",
    "                return(per_round_rewards)\n",
    "            tround+=1\n",
    "    \n",
    "    \n",
    "    return(per_round_rewards)\n",
    "    "
   ]
  },
  {
   "cell_type": "code",
   "execution_count": 26,
   "metadata": {},
   "outputs": [
    {
     "name": "stdout",
     "output_type": "stream",
     "text": [
      "EpsGreedy average reward 0.12625\n"
     ]
    }
   ],
   "source": [
    "mab = EpsGreedy(10, 0.05)\n",
    "results_EpsGreedy = offlineEvaluate(mab, arms, rewards, contexts, 800)\n",
    "print('EpsGreedy average reward', np.mean(results_EpsGreedy))"
   ]
  },
  {
   "cell_type": "code",
   "execution_count": 27,
   "metadata": {},
   "outputs": [
    {
     "name": "stdout",
     "output_type": "stream",
     "text": [
      "UCB average reward 0.165\n"
     ]
    }
   ],
   "source": [
    "mab = UCB(10, 1.0)\n",
    "results_UCB = offlineEvaluate(mab, arms, rewards, contexts, 800)\n",
    "print('UCB average reward', np.mean(results_UCB))"
   ]
  },
  {
   "cell_type": "code",
   "execution_count": 11,
   "metadata": {},
   "outputs": [
    {
     "name": "stdout",
     "output_type": "stream",
     "text": [
      "BetaThompson average reward 0.2275\n"
     ]
    }
   ],
   "source": [
    "mab = BetaThompson(10, 1.0, 1.0)\n",
    "results_BetaThompson = offlineEvaluate(mab, arms, rewards, contexts, 800)\n",
    "print('BetaThompson average reward', np.mean(results_BetaThompson))"
   ]
  },
  {
   "cell_type": "markdown",
   "metadata": {},
   "source": [
    "## 4. Contextual Bandits - LinUCB"
   ]
  },
  {
   "cell_type": "code",
   "execution_count": 12,
   "metadata": {},
   "outputs": [],
   "source": [
    "class LinUCB(MAB):\n",
    "    \"\"\"\n",
    "    Contextual multi-armed bandit (LinUCB)\n",
    "\n",
    "    Arguments\n",
    "    =========\n",
    "    narms : int\n",
    "        number of arms\n",
    "\n",
    "    ndims : int\n",
    "        number of dimensions for each arm's context\n",
    "\n",
    "    alpha : float\n",
    "        positive real explore-exploit parameter\n",
    "    \"\"\"\n",
    "    \n",
    "    def __init__(self, narms, ndims, alpha):\n",
    "        assert isinstance(narms, int), \"'narms' should be an integer.\"\n",
    "        assert narms > 0, \"'narms' should be a positive integer.\"\n",
    "        assert isinstance(ndims, int), \"'ndims' should be an integer.\"\n",
    "        assert ndims > 0, \"'ndims' should be a positive integer.\"\n",
    "        assert isinstance(alpha, float),\"'alpha' shoulde be a real-value number\"\n",
    "        \n",
    "        self.narms = narms\n",
    "        self.ndims = ndims\n",
    "        self.alpha = alpha\n",
    "        #Initialize ndims dimensional identity matrix for each arm\n",
    "        self.A = [np.identity(self.ndims)]*self.narms\n",
    "        #Initialize dimes dimensional zero vector for each arm\n",
    "        self.b = [np.zeros(self.ndims)]*self.narms\n",
    "        \n",
    "    def play(self, tround, context):\n",
    "        #Initialize null coefficient vector for each arm\n",
    "        theta_hat = [np.zeros(self.ndims)]*self.narms\n",
    "        #Initialzie expected pay off for each arm\n",
    "        p_t_a = np.zeros(self.narms)\n",
    "        #Updaate expected pay-off for each arm\n",
    "        for i in range(self.narms):\n",
    "            context_arm = context[i * self.narms:(i+1) * self.narms]\n",
    "            theta_hat[i] = np.linalg.inv(self.A[i]) @ self.b[i]\n",
    "            p_t_a[i] = (theta_hat[i].T @ context_arm) + self.alpha*np.sqrt(context_arm @ np.linalg.inv(self.A[i]) @ context_arm.T)\n",
    "        \n",
    "        # Select arm which has the highest linUCB values so far with random tie-breaking         \n",
    "        max_value = max(p_t_a)    \n",
    "        candidate_arm =[]\n",
    "        for i in range (self.narms):\n",
    "            if p_t_a[i] == max_value:\n",
    "                candidate_arm.append(i)\n",
    "        candidate = np.random.choice(candidate_arm)\n",
    "        \n",
    "        return(candidate+1)\n",
    "    \n",
    "    def update(self, arm, reward, context):\n",
    "        assert arm <= self.narms, \"'arm' should no larger than property 'self.narms'\"\n",
    "        context_arm = context[(arm*self.narms):(arm+1)*self.narms]\n",
    "        self.A[arm] = self.A[arm] + context_arm @ context_arm.T\n",
    "        self.b[arm] = self.b[arm] + reward*context_arm\n",
    "        "
   ]
  },
  {
   "cell_type": "code",
   "execution_count": 13,
   "metadata": {},
   "outputs": [
    {
     "name": "stdout",
     "output_type": "stream",
     "text": [
      "LinUCB average reward 0.2675\n"
     ]
    }
   ],
   "source": [
    "mab = LinUCB(10, 10, 1.0)\n",
    "results_LinUCB = offlineEvaluate(mab, arms, rewards, contexts, 800)\n",
    "print('LinUCB average reward', np.mean(results_LinUCB))"
   ]
  },
  {
   "cell_type": "markdown",
   "metadata": {},
   "source": [
    "## 5. Contextual Bandits - LinThompson"
   ]
  },
  {
   "cell_type": "code",
   "execution_count": 14,
   "metadata": {},
   "outputs": [],
   "source": [
    "class LinThompson(MAB):\n",
    "    \"\"\"\n",
    "    Contextual Thompson sampled multi-armed bandit (LinThompson)\n",
    "\n",
    "    Arguments\n",
    "    =========\n",
    "    narms : int\n",
    "        number of arms\n",
    "\n",
    "    ndims : int\n",
    "        number of dimensions for each arm's context\n",
    "\n",
    "    v : float\n",
    "        positive real explore-exploit parameter\n",
    "    \"\"\"\n",
    "    \n",
    "    def __init__(self, narms, ndims, v):\n",
    "        assert isinstance(narms, int), \"'narms' should be an integer.\"\n",
    "        assert narms > 0, \"'narms' should be a positive integer.\"\n",
    "        assert isinstance(ndims, int), \"'ndims' should be an integer.\"\n",
    "        assert ndims > 0, \"'ndims' should be a positive integer.\"\n",
    "        assert isinstance(v, float),\"'v' shoulde be a real-value number\"\n",
    "        \n",
    "        self.narms = narms\n",
    "        self.ndims = ndims\n",
    "        self.v = v\n",
    "        #Initialize ndims dimensional identity matrix for each arm\n",
    "        self.B = [np.identity(self.ndims)]*self.narms\n",
    "        #Initialize dimes dimensional zero vector for each arm\n",
    "        self.mu_hat = [np.zeros(self.ndims)]*self.narms\n",
    "        self.f = [np.zeros(self.ndims)]*self.narms\n",
    "        \n",
    "    def play(self, tround, context):\n",
    "        p_t_arm = np.zeros(self.narms)\n",
    "        sample_mu = [np.zeros(self.ndims)]*self.narms \n",
    "        for i in range(self.narms):\n",
    "            sample_mu[i] = np.random.multivariate_normal(self.mu_hat[i],self.v**2*np.linalg.inv(self.B[i]))\n",
    "            p_t_arm[i] = context[i * self.narms:(i+1) * self.narms].T @ sample_mu[i]\n",
    "        \n",
    "          # Select arm which has the highest linUCB values so far with random tie-breaking         \n",
    "        max_value = max(p_t_arm)    \n",
    "        candidate_arm =[]\n",
    "        for i in range (self.narms):\n",
    "            if p_t_arm[i] == max_value:\n",
    "                candidate_arm.append(i)\n",
    "        candidate = np.random.choice(candidate_arm)\n",
    "        \n",
    "        return(candidate+1)\n",
    "    \n",
    "    def update(self, arm, reward, context):\n",
    "        assert arm <= self.narms, \"'arm' should no larger than property 'self.narms'\"\n",
    "        context_arm = context[(arm*self.narms):(arm+1)*self.narms]\n",
    "        self.B[arm] = self.B[arm] + context_arm @ context_arm.T\n",
    "        self.f[arm] = self.f[arm] + reward*context_arm\n",
    "        self.mu_hat[arm] = np.linalg.inv(self.B[arm]) @ self.f[arm]"
   ]
  },
  {
   "cell_type": "code",
   "execution_count": 15,
   "metadata": {},
   "outputs": [
    {
     "name": "stdout",
     "output_type": "stream",
     "text": [
      "LinThompson average reward 0.33375\n"
     ]
    }
   ],
   "source": [
    "mab = LinThompson(10, 10, 1.0)\n",
    "results_LinThompson = offlineEvaluate(mab, arms, rewards, contexts, 800)\n",
    "print('LinThompson average reward', np.mean(results_LinThompson))"
   ]
  },
  {
   "cell_type": "markdown",
   "metadata": {},
   "source": [
    "## 6. Evaluation\n",
    "### 6.A."
   ]
  },
  {
   "cell_type": "code",
   "execution_count": 18,
   "metadata": {},
   "outputs": [
    {
     "data": {
      "image/png": "[encoded data removed]",
      "text/plain": [
       "<Figure size 432x288 with 1 Axes>"
      ]
     },
     "metadata": {
      "needs_background": "light"
     },
     "output_type": "display_data"
    }
   ],
   "source": [
    "def plot(tround):\n",
    "  \n",
    "    assert isinstance(tround, int), \"'t' argument should be an integer.\"\n",
    "    assert tround > 0, \"'t' argument should be a positive integer.\"   \n",
    "    # Initialize arrays with zeros to store mean cumulative rewards upto t \n",
    "    # rounds for each of the three implemented bandit algorithms\n",
    "    reward_EpsGreedy = np.zeros(tround)\n",
    "    reward_Thompson = np.zeros(tround)\n",
    "    reward_UCB = np.zeros(tround)\n",
    "    reward_LinUCB = np.zeros(tround)\n",
    "    reward_LinThompson = np.zeros(tround)\n",
    "    # For each round, store the mean cumulative rewards upto that round\n",
    "    for i in range(1,tround):\n",
    "        reward_EpsGreedy[i] = np.sum(results_EpsGreedy[0:i]) / i\n",
    "        reward_UCB[i] = np.sum(results_UCB[0:i]) / i\n",
    "        reward_Thompson[i] = np.sum(results_BetaThompson[0:i])/i\n",
    "        reward_LinUCB[i] = np.sum(results_LinUCB[0:i]) / i\n",
    "        reward_LinThompson[i] = np.sum(results_LinThompson[0:i])/i\n",
    "    # Plot running per round cumulative reward\n",
    "    plt.plot(range(0,tround), reward_EpsGreedy, color='b', label='e-Greedy')\n",
    "    plt.plot(range(0,tround), reward_UCB, color='g', label='UCB')\n",
    "    plt.plot(range(0,tround),reward_Thompson,color='purple',label = 'Thompson')\n",
    "    plt.plot(range(0,tround), reward_LinUCB, color='orange', label='LinUCB')\n",
    "    plt.plot(range(0,tround),reward_LinThompson, color='r',label='LinThompson')\n",
    "    plt.xlabel('Round')\n",
    "    plt.ylabel('Mean Cumulative Reward')\n",
    "    plt.title('Running Per Round Cumulative Reward')\n",
    "    plt.legend()\n",
    "    plt.show()\n",
    "\n",
    "# Plot running per round cumulative reward for three implemented \n",
    "# multi-armed bandits algorithms for 800 matching events    \n",
    "plot(800)"
   ]
  },
  {
   "cell_type": "markdown",
   "metadata": {},
   "source": [
    "### 6.B."
   ]
  },
  {
   "cell_type": "code",
   "execution_count": 48,
   "metadata": {},
   "outputs": [
    {
     "name": "stdout",
     "output_type": "stream",
     "text": [
      "Alpha \t Mean Rewards for 800 Matching Rounds\n",
      "-100.0 \t 0.34\n",
      "-10.0 \t 0.46875\n",
      "-1.0 \t 0.25875\n",
      "-0.5 \t 0.25\n",
      "-0.1 \t 0.1775\n",
      "0.0 \t 0.5275\n",
      "0.01 \t 0.27\n",
      "0.02 \t 0.27\n",
      "0.05 \t 0.27\n",
      "0.1 \t 0.27\n",
      "0.2 \t 0.27125\n",
      "0.3 \t 0.27125\n",
      "0.4 \t 0.27\n",
      "0.5 \t 0.27125\n",
      "1.0 \t 0.2675\n",
      "2.0 \t 0.26875\n",
      "5.0 \t 0.26875\n",
      "10.0 \t 0.27\n",
      "100.0 \t 0.27125\n"
     ]
    },
    {
     "data": {
      "image/png": "[encoded data removed]",
      "text/plain": [
       "<Figure size 432x288 with 1 Axes>"
      ]
     },
     "metadata": {
      "needs_background": "light"
     },
     "output_type": "display_data"
    },
    {
     "name": "stdout",
     "output_type": "stream",
     "text": [
      "\n",
      "Best Alpha is  0.0  with mean rewards of  0.5275  over 800 matching rounds\n"
     ]
    }
   ],
   "source": [
    "def gridSearch(list_of_alpha):\n",
    "\n",
    "    # Initialize best result to be 0\n",
    "    best_result = 0.0\n",
    "    mean_results_LinUCB = np.zeros(len(list_of_alpha))\n",
    "    # Perform grid search over a list of alpha values\n",
    "    for j in range(0, len(list_of_alpha)):\n",
    "        mab = LinUCB(10, 10, list_of_alpha[j])\n",
    "        mean_results_LinUCB[j] = np.mean(offlineEvaluate(mab, arms, rewards, \n",
    "                                                         contexts, 800))  \n",
    "        if mean_results_LinUCB[j] > best_result:\n",
    "            best_result = mean_results_LinUCB[j]\n",
    "            best_alpha = list_of_alpha[j]\n",
    "\n",
    "    print('Alpha', '\\t Mean Rewards for 800 Matching Rounds')  \n",
    "    for i in range(0, len(list_of_alpha)):\n",
    "        print(list_of_alpha[i],'\\t', mean_results_LinUCB[i])\n",
    "    \n",
    "    plt.plot(list_of_alpha, mean_results_LinUCB, color='red', label='LinUCB')\n",
    "    plt.xlabel('list 0f alpha')\n",
    "    plt.ylabel('Mean Cumulative Reward')\n",
    "    plt.title('relationship between alpha and LinUCB Cumulative Reward')\n",
    "    plt.legend()\n",
    "    plt.show()\n",
    "    \n",
    "    return(best_alpha, best_result)\n",
    "\n",
    "# Run grid search to find optimal value of hyper-parameter alpha\n",
    "list_of_alpha = np.array([-100,-10.0,-1.0,-0.5,-0.1,0.0,0.01,0.02,0.05,0.1,0.2,0.3,0.4,0.5,1.0,2.0,5.0,10.0,100])\n",
    "opt_alpha, opt_result = gridSearch(list_of_alpha)\n",
    "            \n",
    "print('\\nBest Alpha is ', opt_alpha, ' with mean rewards of ', opt_result,\\\n",
    "      ' over 800 matching rounds')"
   ]
  },
  {
   "cell_type": "code",
   "execution_count": 49,
   "metadata": {},
   "outputs": [
    {
     "name": "stdout",
     "output_type": "stream",
     "text": [
      "Nu \t Mean Rewards for 800 Matching Rounds\n",
      "-100.0 \t 0.255\n",
      "-10.0 \t 0.36125\n",
      "-1.0 \t 0.37875\n",
      "-0.5 \t 0.3925\n",
      "-0.1 \t 0.45\n",
      "0.0 \t 0.4375\n",
      "0.01 \t 0.485\n",
      "0.02 \t 0.335\n",
      "0.05 \t 0.46375\n",
      "0.1 \t 0.44375\n",
      "0.2 \t 0.34625\n",
      "0.3 \t 0.3975\n",
      "0.4 \t 0.405\n",
      "0.5 \t 0.415\n",
      "1.0 \t 0.30625\n",
      "2.0 \t 0.335\n",
      "5.0 \t 0.345\n",
      "10.0 \t 0.33875\n",
      "100.0 \t 0.27\n"
     ]
    },
    {
     "data": {
      "image/png": "[encoded data removed]",
      "text/plain": [
       "<Figure size 432x288 with 1 Axes>"
      ]
     },
     "metadata": {
      "needs_background": "light"
     },
     "output_type": "display_data"
    },
    {
     "name": "stdout",
     "output_type": "stream",
     "text": [
      "\n",
      "Best nu is  0.01  with mean rewards of  0.485  over 800 matching rounds\n"
     ]
    }
   ],
   "source": [
    "def gridSearch(list_of_nu):\n",
    "\n",
    "    # Initialize best result to be 0\n",
    "    best_result = 0.0\n",
    "    mean_results_LinThompson = np.zeros(len(list_of_nu))\n",
    "    # Perform grid search over a list of alpha values\n",
    "    for j in range(0, len(list_of_nu)):\n",
    "        mab = LinThompson(10, 10, list_of_nu[j])\n",
    "        mean_results_LinThompson[j] = np.mean(offlineEvaluate(mab, arms, rewards, \n",
    "                                                         contexts, 800))  \n",
    "        if mean_results_LinThompson[j] > best_result:\n",
    "            best_result = mean_results_LinThompson[j]\n",
    "            best_nu = list_of_nu[j]\n",
    "\n",
    "    print('Nu', '\\t Mean Rewards for 800 Matching Rounds')  \n",
    "    for i in range(0, len(list_of_nu)):\n",
    "        print(list_of_nu[i],'\\t', mean_results_LinThompson[i])\n",
    "    \n",
    "    plt.plot(list_of_nu, mean_results_LinThompson, color='blue', label='LinThompson')\n",
    "    plt.xlabel('list 0f nu')\n",
    "    plt.ylabel('Mean Cumulative Reward')\n",
    "    plt.title('relationship between nu and LinThompson Cumulative Reward')\n",
    "    plt.legend()\n",
    "    plt.show()\n",
    "    \n",
    "    return(best_nu, best_result)\n",
    "\n",
    "# Run grid search to find optimal value of hyper-parameter alpha\n",
    "list_of_nu = np.array([-100,-10.0,-1.0,-0.5,-0.1,0.0,0.01,0.02,0.05,0.1,0.2,0.3,0.4,0.5,1.0,2.0,5.0,10.0,100])\n",
    "opt_nu, opt_result = gridSearch(list_of_nu)\n",
    "           \n",
    "print('\\nBest nu is ', opt_nu, ' with mean rewards of ', opt_result,\\\n",
    "      ' over 800 matching rounds')"
   ]
  },
  {
   "cell_type": "code",
   "execution_count": 51,
   "metadata": {},
   "outputs": [
    {
     "data": {
      "image/png": "[encoded data removed]",
      "text/plain": [
       "<Figure size 432x288 with 1 Axes>"
      ]
     },
     "metadata": {
      "needs_background": "light"
     },
     "output_type": "display_data"
    }
   ],
   "source": [
    "mab = LinUCB(10, 10, 0.0)\n",
    "results_LinUCB = offlineEvaluate(mab, arms, rewards, \n",
    "                                                         contexts, 800)\n",
    "    \n",
    "mab = LinThompson(10, 10, 0.01)\n",
    "results_LinThompson = offlineEvaluate(mab, arms, rewards, \n",
    "                                                         contexts, 800) \n",
    "\n",
    "plot(800)"
   ]
  },
  {
   "cell_type": "code",
   "execution_count": null,
   "metadata": {},
   "outputs": [],
   "source": []
  }
 ],
 "metadata": {
  "kernelspec": {
   "display_name": "Python 3",
   "language": "python",
   "name": "python3"
  },
  "language_info": {
   "codemirror_mode": {
    "name": "ipython",
    "version": 3
   },
   "file_extension": ".py",
   "mimetype": "text/x-python",
   "name": "python",
   "nbconvert_exporter": "python",
   "pygments_lexer": "ipython3",
   "version": "3.7.3"
  }
 },
 "nbformat": 4,
 "nbformat_minor": 2
}
